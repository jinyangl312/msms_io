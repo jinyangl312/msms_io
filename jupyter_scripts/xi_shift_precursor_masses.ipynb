{
 "cells": [
  {
   "cell_type": "code",
   "execution_count": 1,
   "metadata": {},
   "outputs": [],
   "source": [
    "from write_spectra import shift_precursor_masses_012"
   ]
  },
  {
   "cell_type": "code",
   "execution_count": 2,
   "metadata": {},
   "outputs": [
    {
     "name": "stderr",
     "output_type": "stream",
     "text": [
      "3it [06:08, 122.71s/it]\n"
     ]
    }
   ],
   "source": [
    "shift_precursor_masses_012(input_list_dir = r\"E:\\dataset\\Mechtler_NC_2022\\raw\\mainlib\\crosslinkers\\DSSO\\pXtract\",\n",
    "output_dir = r\"E:\\dataset\\Mechtler_NC_2022\\raw\\mainlib\\crosslinkers\\DSSO\\pXtract-nDa_mgf\")"
   ]
  }
 ],
 "metadata": {
  "kernelspec": {
   "display_name": "base",
   "language": "python",
   "name": "python3"
  },
  "language_info": {
   "codemirror_mode": {
    "name": "ipython",
    "version": 3
   },
   "file_extension": ".py",
   "mimetype": "text/x-python",
   "name": "python",
   "nbconvert_exporter": "python",
   "pygments_lexer": "ipython3",
   "version": "3.8.8"
  },
  "orig_nbformat": 4,
  "vscode": {
   "interpreter": {
    "hash": "ad2bdc8ecc057115af97d19610ffacc2b4e99fae6737bb82f5d7fb13d2f2c186"
   }
  }
 },
 "nbformat": 4,
 "nbformat_minor": 2
}
