{
 "cells": [
  {
   "cell_type": "code",
   "execution_count": 1,
   "metadata": {},
   "outputs": [
    {
     "name": "stdout",
     "output_type": "stream",
     "text": [
      "Cleaning tmp files...\n"
     ]
    }
   ],
   "source": [
    "import pathlib\n",
    "import os\n",
    "\n",
    "print(\"Cleaning tmp files...\")\n",
    "p = pathlib.Path()\n",
    "for file in p.rglob('fmindex_tmp/fm.*'):\n",
    "    os.remove(file)"
   ]
  },
  {
   "cell_type": "code",
   "execution_count": 2,
   "metadata": {},
   "outputs": [],
   "source": [
    "from load_fasta import fmindex_encode, FMIndexDecoder"
   ]
  },
  {
   "cell_type": "code",
   "execution_count": 3,
   "metadata": {},
   "outputs": [
    {
     "data": {
      "text/plain": [
       "True"
      ]
     },
     "execution_count": 3,
     "metadata": {},
     "output_type": "execute_result"
    }
   ],
   "source": [
    "fmindex_encode(\"./FMIndex_demo_data/std8.fasta\", \"./fmindex_tmp/fm\")"
   ]
  },
  {
   "cell_type": "code",
   "execution_count": 4,
   "metadata": {},
   "outputs": [],
   "source": [
    "decoder = FMIndexDecoder(\"./fmindex_tmp/fm\")"
   ]
  },
  {
   "cell_type": "code",
   "execution_count": 5,
   "metadata": {},
   "outputs": [
    {
     "data": {
      "text/plain": [
       "True"
      ]
     },
     "execution_count": 5,
     "metadata": {},
     "output_type": "execute_result"
    }
   ],
   "source": [
    "decoder.has_pattern(\"M\")"
   ]
  },
  {
   "cell_type": "code",
   "execution_count": 6,
   "metadata": {},
   "outputs": [
    {
     "data": {
      "text/plain": [
       "[('contr08|P00698|LYSC_CHICK', 32)]"
      ]
     },
     "execution_count": 6,
     "metadata": {},
     "output_type": "execute_result"
    }
   ],
   "source": [
    "decoder.get_all_pattern(\"HGLDNYRGYS\")"
   ]
  },
  {
   "cell_type": "code",
   "execution_count": 7,
   "metadata": {},
   "outputs": [],
   "source": [
    "decoder = FMIndexDecoder(\"./fmindex_tmp/fm\")"
   ]
  },
  {
   "cell_type": "code",
   "execution_count": 8,
   "metadata": {},
   "outputs": [
    {
     "data": {
      "text/plain": [
       "True"
      ]
     },
     "execution_count": 8,
     "metadata": {},
     "output_type": "execute_result"
    }
   ],
   "source": [
    "decoder.has_pattern(\"M\")"
   ]
  },
  {
   "cell_type": "code",
   "execution_count": 9,
   "metadata": {},
   "outputs": [
    {
     "data": {
      "text/plain": [
       "132"
      ]
     },
     "execution_count": 9,
     "metadata": {},
     "output_type": "execute_result"
    }
   ],
   "source": [
    "decoder.get_pattern_size(\"M\")"
   ]
  },
  {
   "cell_type": "code",
   "execution_count": 10,
   "metadata": {},
   "outputs": [
    {
     "data": {
      "text/plain": [
       "[('contr01|Q28641|MYH4_RABIT', 1637),\n",
       " ('contr03|P02769|ALBU_BOVIN', 110),\n",
       " ('contr02|P00489|PYGM_RABIT', 699),\n",
       " ('contr01|Q28641|MYH4_RABIT', 1767),\n",
       " ('contr01|Q28641|MYH4_RABIT', 984),\n",
       " ('contr02|P00489|PYGM_RABIT', 441),\n",
       " ('contr01|Q28641|MYH4_RABIT', 6),\n",
       " ('contr04|P00722|BGAL_ECOLI', 864),\n",
       " ('contr02|P00489|PYGM_RABIT', 615),\n",
       " ('contr07|P01012|OVAL_CHICK', 298),\n",
       " ('contr01|Q28641|MYH4_RABIT', 90),\n",
       " ('contr01|Q28641|MYH4_RABIT', 851),\n",
       " ('contr07|P01012|OVAL_CHICK', 222),\n",
       " ('contr01|Q28641|MYH4_RABIT', 332),\n",
       " ('contr02|P00489|PYGM_RABIT', 147),\n",
       " ('contr04|P00722|BGAL_ECOLI', 246),\n",
       " ('contr01|Q28641|MYH4_RABIT', 793),\n",
       " ('contr01|Q28641|MYH4_RABIT', 1250),\n",
       " ('contr04|P00722|BGAL_ECOLI', 367),\n",
       " ('contr04|P00722|BGAL_ECOLI', 745),\n",
       " ('contr02|P00489|PYGM_RABIT', 692),\n",
       " ('contr06|P01070|ITRA_SOYBN', 137),\n",
       " ('contr01|Q28641|MYH4_RABIT', 1069),\n",
       " ('contr01|Q28641|MYH4_RABIT', 517),\n",
       " ('contr01|Q28641|MYH4_RABIT', 1048),\n",
       " ('contr01|Q28641|MYH4_RABIT', 1743),\n",
       " ('contr02|P00489|PYGM_RABIT', 176),\n",
       " ('contr07|P01012|OVAL_CHICK', 287),\n",
       " ('contr02|P00489|PYGM_RABIT', 119),\n",
       " ('contr07|P01012|OVAL_CHICK', 273),\n",
       " ('contr07|P01012|OVAL_CHICK', 8),\n",
       " ('contr01|Q28641|MYH4_RABIT', 1620),\n",
       " ('contr01|Q28641|MYH4_RABIT', 686),\n",
       " ('contr01|Q28641|MYH4_RABIT', 1228),\n",
       " ('contr01|Q28641|MYH4_RABIT', 1627),\n",
       " ('contr03|P02769|ALBU_BOVIN', 570),\n",
       " ('contr01|Q28641|MYH4_RABIT', 1788),\n",
       " ('contr04|P00722|BGAL_ECOLI', 968),\n",
       " ('contr01|Q28641|MYH4_RABIT', 1237),\n",
       " ('contr01|Q28641|MYH4_RABIT', 437),\n",
       " ('contr01|Q28641|MYH4_RABIT', 541),\n",
       " ('contr01|Q28641|MYH4_RABIT', 495),\n",
       " ('contr01|Q28641|MYH4_RABIT', 530),\n",
       " ('contr04|P00722|BGAL_ECOLI', 991),\n",
       " ('contr07|P01012|OVAL_CHICK', 300),\n",
       " ('contr04|P00722|BGAL_ECOLI', 542),\n",
       " ('contr02|P00489|PYGM_RABIT', 91),\n",
       " ('contr07|P01012|OVAL_CHICK', 0),\n",
       " ('contr04|P00722|BGAL_ECOLI', 92),\n",
       " ('contr02|P00489|PYGM_RABIT', 766),\n",
       " ('contr01|Q28641|MYH4_RABIT', 359),\n",
       " ('contr01|Q28641|MYH4_RABIT', 1431),\n",
       " ('contr02|P00489|PYGM_RABIT', 604),\n",
       " ('contr02|P00489|PYGM_RABIT', 618),\n",
       " ('contr04|P00722|BGAL_ECOLI', 2),\n",
       " ('contr01|Q28641|MYH4_RABIT', 113),\n",
       " ('contr01|Q28641|MYH4_RABIT', 854),\n",
       " ('contr01|Q28641|MYH4_RABIT', 364),\n",
       " ('contr02|P00489|PYGM_RABIT', 679),\n",
       " ('contr07|P01012|OVAL_CHICK', 227),\n",
       " ('contr01|Q28641|MYH4_RABIT', 1784),\n",
       " ('contr01|Q28641|MYH4_RABIT', 832),\n",
       " ('contr07|P01012|OVAL_CHICK', 285),\n",
       " ('contr04|P00722|BGAL_ECOLI', 379),\n",
       " ('contr08|P00698|LYSC_CHICK', 29),\n",
       " ('contr06|P01070|ITRA_SOYBN', 0),\n",
       " ('contr01|Q28641|MYH4_RABIT', 616),\n",
       " ('contr03|P02769|ALBU_BOVIN', 0),\n",
       " ('contr05|P00921|CAH2_BOVIN', 239),\n",
       " ('contr06|P01070|ITRA_SOYBN', 107),\n",
       " ('contr05|P00921|CAH2_BOVIN', 221),\n",
       " ('contr01|Q28641|MYH4_RABIT', 302),\n",
       " ('contr02|P00489|PYGM_RABIT', 764),\n",
       " ('contr02|P00489|PYGM_RABIT', 682),\n",
       " ('contr01|Q28641|MYH4_RABIT', 165),\n",
       " ('contr07|P01012|OVAL_CHICK', 241),\n",
       " ('contr01|Q28641|MYH4_RABIT', 1766),\n",
       " ('contr01|Q28641|MYH4_RABIT', 92),\n",
       " ('contr07|P01012|OVAL_CHICK', 210),\n",
       " ('contr08|P00698|LYSC_CHICK', 122),\n",
       " ('contr04|P00722|BGAL_ECOLI', 603),\n",
       " ('contr01|Q28641|MYH4_RABIT', 1165),\n",
       " ('contr01|Q28641|MYH4_RABIT', 79),\n",
       " ('contr04|P00722|BGAL_ECOLI', 423),\n",
       " ('contr01|Q28641|MYH4_RABIT', 824),\n",
       " ('contr03|P02769|ALBU_BOVIN', 468),\n",
       " ('contr07|P01012|OVAL_CHICK', 196),\n",
       " ('contr02|P00489|PYGM_RABIT', 224),\n",
       " ('contr01|Q28641|MYH4_RABIT', 883),\n",
       " ('contr01|Q28641|MYH4_RABIT', 214),\n",
       " ('contr01|Q28641|MYH4_RABIT', 1104),\n",
       " ('contr01|Q28641|MYH4_RABIT', 1599),\n",
       " ('contr01|Q28641|MYH4_RABIT', 778),\n",
       " ('contr03|P02769|ALBU_BOVIN', 207),\n",
       " ('contr01|Q28641|MYH4_RABIT', 0),\n",
       " ('contr02|P00489|PYGM_RABIT', 241),\n",
       " ('contr01|Q28641|MYH4_RABIT', 1176),\n",
       " ('contr08|P00698|LYSC_CHICK', 0),\n",
       " ('contr02|P00489|PYGM_RABIT', 713),\n",
       " ('contr02|P00489|PYGM_RABIT', 350),\n",
       " ('contr07|P01012|OVAL_CHICK', 35),\n",
       " ('contr04|P00722|BGAL_ECOLI', 436),\n",
       " ('contr04|P00722|BGAL_ECOLI', 205),\n",
       " ('contr05|P00921|CAH2_BOVIN', 0),\n",
       " ('contr01|Q28641|MYH4_RABIT', 1363),\n",
       " ('contr02|P00489|PYGM_RABIT', 428),\n",
       " ('contr07|P01012|OVAL_CHICK', 239),\n",
       " ('contr01|Q28641|MYH4_RABIT', 292),\n",
       " ('contr01|Q28641|MYH4_RABIT', 1089),\n",
       " ('contr02|P00489|PYGM_RABIT', 0),\n",
       " ('contr01|Q28641|MYH4_RABIT', 93),\n",
       " ('contr04|P00722|BGAL_ECOLI', 0),\n",
       " ('contr01|Q28641|MYH4_RABIT', 661),\n",
       " ('contr04|P00722|BGAL_ECOLI', 655),\n",
       " ('contr01|Q28641|MYH4_RABIT', 879),\n",
       " ('contr01|Q28641|MYH4_RABIT', 1675),\n",
       " ('contr01|Q28641|MYH4_RABIT', 806),\n",
       " ('contr02|P00489|PYGM_RABIT', 800),\n",
       " ('contr04|P00722|BGAL_ECOLI', 187),\n",
       " ('contr07|P01012|OVAL_CHICK', 172),\n",
       " ('contr02|P00489|PYGM_RABIT', 99),\n",
       " ('contr05|P00921|CAH2_BOVIN', 58),\n",
       " ('contr04|P00722|BGAL_ECOLI', 420),\n",
       " ('contr04|P00722|BGAL_ECOLI', 372),\n",
       " ('contr04|P00722|BGAL_ECOLI', 443),\n",
       " ('contr01|Q28641|MYH4_RABIT', 441),\n",
       " ('contr07|P01012|OVAL_CHICK', 40),\n",
       " ('contr04|P00722|BGAL_ECOLI', 768),\n",
       " ('contr04|P00722|BGAL_ECOLI', 202),\n",
       " ('contr04|P00722|BGAL_ECOLI', 502),\n",
       " ('contr07|P01012|OVAL_CHICK', 211),\n",
       " ('contr04|P00722|BGAL_ECOLI', 925)]"
      ]
     },
     "execution_count": 10,
     "metadata": {},
     "output_type": "execute_result"
    }
   ],
   "source": [
    "decoder.get_all_pattern(\"M\")"
   ]
  },
  {
   "cell_type": "code",
   "execution_count": 11,
   "metadata": {},
   "outputs": [
    {
     "data": {
      "text/plain": [
       "[('contr08|P00698|LYSC_CHICK', 32)]"
      ]
     },
     "execution_count": 11,
     "metadata": {},
     "output_type": "execute_result"
    }
   ],
   "source": [
    "decoder.get_all_pattern(\"HGLDNYRGYS\")"
   ]
  }
 ],
 "metadata": {
  "interpreter": {
   "hash": "b3ba2566441a7c06988d0923437866b63cedc61552a5af99d1f4fb67d367b25f"
  },
  "kernelspec": {
   "display_name": "Python 3.8.8 ('base')",
   "language": "python",
   "name": "python3"
  },
  "language_info": {
   "codemirror_mode": {
    "name": "ipython",
    "version": 3
   },
   "file_extension": ".py",
   "mimetype": "text/x-python",
   "name": "python",
   "nbconvert_exporter": "python",
   "pygments_lexer": "ipython3",
   "version": "3.8.8"
  },
  "orig_nbformat": 4
 },
 "nbformat": 4,
 "nbformat_minor": 2
}
